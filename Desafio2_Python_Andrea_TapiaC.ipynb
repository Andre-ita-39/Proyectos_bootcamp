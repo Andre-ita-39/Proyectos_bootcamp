{
 "cells": [
  {
   "cell_type": "markdown",
   "id": "640447fb",
   "metadata": {},
   "source": [
    "# Desafío 2 - Conociendo Python II\n",
    "\n",
    "## Ejercicio 1: Suma de números pares ![\"suma_pares\"](https://encrypted-tbn0.gstatic.com/images?q=tbn:ANd9GcQk2UQcrz3Ud4luJS5jgZkk3h9eOYvjNtu_kcD7HSxBqA&s)\n",
    "\n",
    "### **Encabezado**\n",
    "\n",
    "Escribe un programa que pida al usuario dos números enteros y calcule la suma de todos los números pares entre ellos. El programa deberá imprimir el resultado. \n",
    "\n",
    "#### *Desarrollo*\n",
    "\n",
    "1. Solicitamos la entrada al usuario (mediante input) de dos números que serán guardados en las variables \"inicial\" y \"final\". Se transforma a tipo *int* el dato solicitado por input, asegurando que sólo puedan ser ingresados números enteros, si se ingresa otro tipo de dato el programa arrojará un error (ValueError) y se detendrá.\n",
    "\n",
    "2. Con esta condición **if** se verifica que el primer número sea mayor que el segundo. Si se cumple esta condicón, se realiza un intercambio de valores, que es una técnica de Python donde los valores de las dos variables se intercambian.\n",
    "\n",
    "3. Creamos la variable *suma_pares* a la cual se le asigna el valor cero. Esta variable se usará para acumular la suma de todos los números pares que se encuentren entre el número inicial y el final.\n",
    "\n",
    "4. Se utiliza un bucle *for* para iterar sobre el rango de números entre el *inicial* y el *final* (inclusive).A continuación explicaré en detalle el bucle:\n",
    "- **for n**: *n* es la variable usada para representar cada número dentro del rango que se especifica durante las iteraciones del bucle.\n",
    "- **in range(inicial, final + 1)**: usamos la función incorporada *in range()* para generar el rango entre los valores de las variables *inical* y *final*. Comienza con el valor de la variable *inicial* y termina un valor antes del valor de la variable *final*. Por lo tanto, si especificamos *final + 1* aseguramos que el rango **incluya** el número indicado en la variable *final* en las iteraciones.\n",
    "- **if n % 2 == 0**: Corresponde a la condición que se verifica dentro del bucle for. Indica que \"si la operación de resto '%' entre *n* y 2 es *igual* a 0, se considera que el número es par\". Por ende a cada número del rango especificado se le aplicará esta operación para verificar si es par.\n",
    "- **suma_pares += n**: Esta es una operación de asignación que se usa para sumar el número actual *n* a *suma_pares* (es equivalente a escribir 'suma_pares = suma_pares + n'), que es la variable donde se está acumulando la suma total de todos los números pares encontrados. \n",
    "\n",
    "5. Finalmente, se muestra mediante la función *print* la suma de los números pares encontrados entre los dos números."
   ]
  },
  {
   "cell_type": "code",
   "execution_count": 44,
   "id": "9a34efc9",
   "metadata": {},
   "outputs": [
    {
     "name": "stdout",
     "output_type": "stream",
     "text": [
      "Ingrese el primer número: 4\n",
      "Ingrese el segundo número: 10\n",
      "La suma de los números pares entre 4 y 10 es: 28\n"
     ]
    }
   ],
   "source": [
    "# Punto 1: Solicitar al usuario dos números enteros\n",
    "\n",
    "inicial = int(input(\"Ingrese el primer número: \"))\n",
    "final = int(input(\"Ingrese el segundo número: \"))\n",
    "\n",
    "# Punto 2: Asegurarse de que 'inicial' sea menor que 'final'\n",
    "\n",
    "if inicial > final:\n",
    "    inicial, final = final, inicial\n",
    "\n",
    "# Punto 3: Inicializar la suma de los números pares a cero\n",
    "\n",
    "suma_pares = 0\n",
    "\n",
    "# Punto 4: Iterar a través de los números entre 'inicial' y 'final'\n",
    "\n",
    "for n in range(inicial, final + 1):\n",
    "    if n % 2 == 0:  # Verificar si el número es par\n",
    "        suma_pares += n  # Sumar el número par a 'suma_pares'\n",
    "\n",
    "# Punto 5: Imprimir el resultado de la suma de los números pares\n",
    "\n",
    "print(\"La suma de los números pares entre\", inicial, \"y\", final, \"es:\", suma_pares)\n"
   ]
  },
  {
   "cell_type": "markdown",
   "id": "d0a34c3d",
   "metadata": {},
   "source": [
    "## Ejercicio 2: Calculadora de áreas ![\"areas\"](https://pbs.twimg.com/media/EN2niniVAAMFBHk.jpg)\n",
    "\n",
    "### **Encabezado**\n",
    "\n",
    "Escribe un programa que pida al usuario el tipo de figura geométrica de la que quiere calcular el área (cuadrado, triángulo o círculo) y las medidas correspondientes. El programa deberá calcular y mostrar el área de la figura seleccionada. \n",
    "\n",
    "#### *Desarrollo*\n",
    "\n",
    "1. Importamos el módulo *math* que proporciona acceso a funciones matemáticas definidas, en este caso la constante *pi* para calcular el área de un círculo.\n",
    "\n",
    "2. Se crea la variable *figura*, donde el programa pide al usuario que ingrese el tipo de figura para la que se desea calcular el área (esto se hace mediante la función *input()*). Además usamos el método .lower() para conviertir la entrada a minúsculas para que el programa pueda reconocer la figura sin problemas de mayúsculas o minúsculas, evitando así generar errores. En caso que el usuario ingrese el nombre de la figura sin tilde saldrá un mensaje que indica que no se reconoce la figura.\n",
    "\n",
    "3. A continuación se crean condicionales para calcular el área según la figura. Para ello usamos if/elif/else, donde *elif* y *else* manejan los casos en los que las entradas no coinciden con la condición del *if*. Si ponemos múltiples *if* independientes se evaluará su condición sin considerar las demás, por lo que todas las condiciones se evaluarían siempre. Esto no es lo deseado en este caso porque solo queremos calcular el área de una figura específica. \n",
    "\n",
    "**if/else anidados**: En cada condicional se agregará una condicional adicional como *if/else* anidados para verificar que el número ingresado sea válido para poder asegurar la correcta entrada de datos para los cálculos de las áreas.\n",
    "\n",
    "Según la figura seleccionada:\n",
    "\n",
    "- Si el usuario ingresa **cuadrado**, la condición sería: si *figura* es *igual* a *cuadrado*, el programa pide a través de la función *input()* la medida de un lado del cuadrado (variable \"lado\"), se transforma la entrada input al tipo float para que el usuario pueda ingresar valores con decimales. Si no se cumple la condición que el lado sea \"<=0\", calcula el área elevando el valor del lado al cuadrado (lado^2), valor guardado en variable *area*. En caso de que el número ingresado sea con valor negativo se imprimirá un mensaje alertando que se debe ingresar un valor positivo.\n",
    "\n",
    "- Si el usuario ingresa **triángulo**, la condición sería: si *figura* es *igual* a *triángulo*, el programa pide a través de la función *input()* la base y la altura del triángulo (variables *base* y *altura* respectivamente). Mediante la condicional *if* verificamos que los valores ingresados sean correctos, es decir, se verifica que el usuario haya ingresado valores positivos (\"base <= 0 or altura <= 0\"), si se cumple esta condicion se imprimirá un mensaje pidiendo al usuario ingresar un valor positivo. La tercera variable *area* corresponde al cálulo de multiplicar la base y la altura por 0.5 (0.5 * base * altura). Se transforma la entrada *input* al tipo *float* para que el usuario pueda ingresar valores con decimales. \n",
    "\n",
    "- Si el usuario ingresa **círculo**, la condición sería: si *figura* es *igual* a *círculo*, el programa pide a través de la función *input()* el radio del círculo y lo guarda en la variable *radio*. Nuevamente con la condicional *if* nos seguramos que el usuario ingresa un valor positivo al igual que en el caso del cuadrado. Se utiliza la fórmula del área de un círculo π * radio^2 para calcular el área, usando math.pi para obtener el valor de π (variable *area*).\n",
    "\n",
    "- **Figura no reconocida**: Si el usuario ingresa un dato que no corresponde a las figuras esperadas, el programa imprime un mensaje indicando que la figura no es reconocida. \n",
    "\n",
    "Después de cada condición usamos la función *print* para mostrar el resultado de la variable *area*. Para hacer mas legible el resultado usamos la función *round()* para redondear la cantidad de decimales que aparecerán en el resultado, en este caso se redondea a dos decimales. "
   ]
  },
  {
   "cell_type": "code",
   "execution_count": 36,
   "id": "174475c8",
   "metadata": {},
   "outputs": [
    {
     "name": "stdout",
     "output_type": "stream",
     "text": [
      "Ingrese el tipo de figura (cuadrado, triángulo, círculo): cuadrado\n",
      "Ingrese la medida del lado del cuadrado: 0\n",
      "La medida debe ser un número positivo.\n"
     ]
    }
   ],
   "source": [
    "# Punto 1: Importar la librería 'math' para usar 'pi'\n",
    "\n",
    "import math\n",
    "\n",
    "# Punto 2: Solicitar al usuario el tipo de figura geométrica\n",
    "\n",
    "figura = input(\"Ingrese el tipo de figura (cuadrado, triángulo, círculo): \").lower()\n",
    "\n",
    "# Punto 3: Calcular el área según el tipo de figura ingresado\n",
    "\n",
    "if figura == \"cuadrado\":\n",
    "    lado = float(input(\"Ingrese la medida del lado del cuadrado: \"))\n",
    "    if lado <= 0:\n",
    "        print(\"La medida debe ser un número positivo.\")\n",
    "    else:\n",
    "        area = lado ** 2\n",
    "        print(\"El área del\", figura, \"es:\", round(area, 2))\n",
    "elif figura == \"triángulo\":\n",
    "    base = float(input(\"Ingrese la base del triángulo: \"))\n",
    "    altura = float(input(\"Ingrese la altura del triángulo: \"))\n",
    "    if base <= 0 or altura <= 0:\n",
    "        print(\"Las medidas deben ser números positivos.\")\n",
    "    else:\n",
    "        area = 0.5 * base * altura\n",
    "        print(\"El área del\", figura, \"es:\", round(area, 2))\n",
    "elif figura == \"círculo\":\n",
    "    radio = float(input(\"Ingrese el radio del círculo: \"))\n",
    "    if radio <= 0:\n",
    "        print(\"El radio debe ser un número positivo.\")\n",
    "    else:\n",
    "        area = math.pi * radio ** 2\n",
    "        print(\"El área del\", figura, \"es:\", round(area, 2))\n",
    "else:\n",
    "    print(\"Figura no reconocida\")\n",
    "\n",
    "   \n",
    "    \n"
   ]
  },
  {
   "cell_type": "markdown",
   "id": "db30319c",
   "metadata": {},
   "source": [
    "## Ejercicio 3: Adivina el número \n",
    "\n",
    "### **Encabezado**\n",
    "\n",
    "Escribe un programa que genere un número aleatorio entre 1 y 100 y pida al usuario que adivine cuál es. El programa deberá dar pistas al usuario diciendo si el número que ha introducido es mayor o menor que el número aleatorio. El programa deberá continuar pidiendo números hasta que el usuario adivine el número correcto.\n",
    "\n",
    "#### *Desarrollo*\n",
    "\n",
    "1. Importamos el módulo random para utilizar la función que genera números aleatorios.\n",
    "\n",
    "2. Generamos un número aleatorio mediente la funcion *randint*, la cual va dentro de la variable *numero_aleatorio*. El rango especificado en la función será el número que el usuario intentará adivinar. Además, se crea la variable *adivinado* que tendrá la función de controlar el ciclo del juego. El valor de ésta se establece en *False* porque indica que el número todavía no ha sido adivinado.\n",
    "\n",
    "3. Finalmente se crea el ciclo para adivinar el número, éste ciclo consiste en varios pasos:\n",
    "\n",
    "- **while not adivinado**: El ciclo while continúa mientras la condición *not adivinado* sea verdadera, es decir, mientras el número no haya sido adivinado.\n",
    "\n",
    "- **intento = int(input(\"Adivina el número (entre 1 y 100): \"))**: Mediante la función *input()* se solicita un intento del usuario. Como el número es leído como cadena, lo convertimos a *int*. Este valor ingresado será comparado con el número aleatorio generado en la variable *numero_aleatorio*.\n",
    "\n",
    "- **if intento < numero_aleatorio**: Se evalúa con la condición *if* si el número ingresado por el usuario es menor al número aleatorio. Si esta condición se cumple se imprime \"Más alto\", indicando al usuario que el número a adivinar es mayor al que ingresó.\n",
    "\n",
    "- **elif intento > numero_aleatorio**: Se evalúa con la condición *elif* si el número ingresado por el usuario es mayor al número aleatorio. Si el intento es mayor que el *numero_aleatorio*, se imprime \"Más bajo\" indicando al usuario que el número a adivinar es menor al que ingresó.\n",
    "\n",
    "- **else: / print(\"¡Correcto!\") / adivinado = True**: Si el intento es igual al numero_aleatorio, se imprime \"¡Correcto!\" y se cambia la variable *adivinado = True*, lo que termina el ciclo while.\n",
    "\n",
    "**Fin del Juego**\n",
    "\n",
    "![\"adivina\"](https://www.shutterstock.com/image-vector/you-win-paper-banner-color-260nw-501915232.jpg)\n"
   ]
  },
  {
   "cell_type": "code",
   "execution_count": 42,
   "id": "0967baff",
   "metadata": {},
   "outputs": [
    {
     "name": "stdout",
     "output_type": "stream",
     "text": [
      "Adivina el número (entre 1 y 100): 4\n",
      "Más alto\n",
      "Adivina el número (entre 1 y 100): 66\n",
      "Más bajo\n",
      "Adivina el número (entre 1 y 100): 55\n",
      "Más alto\n",
      "Adivina el número (entre 1 y 100): 56\n",
      "Más alto\n",
      "Adivina el número (entre 1 y 100): 60\n",
      "Más alto\n",
      "Adivina el número (entre 1 y 100): 65\n",
      "Más bajo\n",
      "Adivina el número (entre 1 y 100): 64\n",
      "Más bajo\n",
      "Adivina el número (entre 1 y 100): 63\n",
      "¡Correcto!\n"
     ]
    }
   ],
   "source": [
    "# Punto1: Importar la librería 'random' para generar numeros aleatorios\n",
    "\n",
    "import random\n",
    "\n",
    "# Punto 2 : Generar número aleatorio entre 1 y 100\n",
    "\n",
    "numero_aleatorio = random.randint(1, 100)\n",
    "adivinado = False\n",
    "\n",
    "# Punto 3: Generar un ciclo hasta que el usuario adivine el número\n",
    "\n",
    "while not adivinado:\n",
    "    intento = int(input(\"Adivina el número (entre 1 y 100): \"))\n",
    "    if intento < numero_aleatorio:\n",
    "        print(\"Más alto\")\n",
    "    elif intento > numero_aleatorio:\n",
    "        print(\"Más bajo\")\n",
    "    else:\n",
    "        print(\"¡Correcto!\")\n",
    "        adivinado = True\n"
   ]
  },
  {
   "cell_type": "markdown",
   "id": "3d978755",
   "metadata": {},
   "source": [
    "## Ejercicio 4: ¡Maratón de caracoles! \n",
    "\n",
    "### **Encabezado**\n",
    "\n",
    "Crea un programa que simule un caracol que va corriendo una maratón. Pide al usuario que ingrese la velocidad a la que puede correr el caracol.\n",
    "\n",
    "#### *Desarrollo*\n",
    "\n",
    "1. Creamos la variable *velocidad*, donde solicitamos al usuario la velocidad del caracol. Convertimos el valor de la variable de cadena a entero ya que se realizarán operaciones matemáticas. Además usamos la condicional *if* \"velocidad < 1 or velocidad > 10\" para asegurar que el usuario ingresa un número válido dentro del rango especificado. Si esta condición no se cumple, se imprime un mensaje alertando al usuario que el número debe estar en cierto rango.\n",
    "\n",
    "2. En el condicional *else* se crea la variable control *distancia* con el valor 0. La función de esta variable es contar cuánto ha \"viajado\" el caracol. Se inicia en cero porque se toma este valor como punto de partida. Se usará para incrementar la distancia ingresada por el usuario y se ejecutará simepre y cuando el usuario ingrese un valor entre 1 y 10. #En caso de querer comenzar la carrera no del punto de partida sino con un paso adelantado, la variable distancia deberia tener el valor 1#\n",
    "\n",
    "3. Se usa un ciclo while para mostrar el avance del caracol.\n",
    "\n",
    "- **while distancia < 50**: Este es un ciclo que se repetirá siempre que la condición distancia < 50 sea verdadera. Esto significa que el ciclo se ejecutará hasta que la distancia alcance 50 unidades.\n",
    "\n",
    "- **print(\"_\" * distancia + \"🐌\")**: La función *print* crea una cadena de guiones bajos que tiene una longitud igual al valor actual de la variable distancia (se multiplica el guión por el valor de la variable distancia). Sirve para desplazar visualmente al caracol simulando movimiento. Al final se agrega el emoji de caracol para dar una mejor visualizaión.\n",
    "\n",
    "- **distancia += velocidad**: Cada vez que el ciclo se ejecuta, la variable distancia se incrementa por el valor de velocidad, para simular el avance del caracol. Cada ciclo representa un \"paso\" basado en la velocidad ingresada.\n",
    "\n",
    "\n",
    "![\"caracol\"](https://encrypted-tbn0.gstatic.com/images?q=tbn:ANd9GcSLKq-LvtE-ndF-Goe-jUNg1_I_qaBUMxLfHV3WLy-JjA&s)\n",
    "\n",
    "\n"
   ]
  },
  {
   "cell_type": "code",
   "execution_count": 40,
   "id": "77ec5658",
   "metadata": {},
   "outputs": [
    {
     "name": "stdout",
     "output_type": "stream",
     "text": [
      "Ingrese la velocidad del caracol (1 a 10): 10\n",
      "🐌\n",
      "__________🐌\n",
      "____________________🐌\n",
      "______________________________🐌\n",
      "________________________________________🐌\n"
     ]
    }
   ],
   "source": [
    "# Punto 1 - 2: Solicitar la velocidad del caracol y asegurar que sea válida\n",
    "\n",
    "velocidad = int(input(\"Ingrese la velocidad del caracol (1 a 10): \"))\n",
    "if velocidad < 1 or velocidad > 10:\n",
    "    print(\"La velocidad debe estar entre 1 y 10.\")\n",
    "else:\n",
    "    distancia = 0\n",
    "\n",
    "# Punto 3: Usar un ciclo while para mostrar el avance del caracol\n",
    "\n",
    "while distancia < 50:\n",
    "    print(\"_\" * distancia + \"🐌\")\n",
    "    distancia += velocidad\n"
   ]
  },
  {
   "cell_type": "code",
   "execution_count": 41,
   "id": "2a0e6d08",
   "metadata": {},
   "outputs": [
    {
     "name": "stdout",
     "output_type": "stream",
     "text": [
      "Ingrese la velocidad del caracol (1 a 10): 10\n",
      "_🐌\n",
      "___________🐌\n",
      "_____________________🐌\n",
      "_______________________________🐌\n",
      "_________________________________________🐌\n"
     ]
    }
   ],
   "source": [
    "''' En este ejemplo se muestra la diferencia en la representación el ejercicio 4 si la variable distancia fuera \n",
    "igual a 1'''\n",
    "\n",
    "# Punto 1 - 2: Solicitar la velocidad del caracol y asegurar que sea válida\n",
    "\n",
    "velocidad = int(input(\"Ingrese la velocidad del caracol (1 a 10): \"))\n",
    "if velocidad < 1 or velocidad > 10:\n",
    "    print(\"La velocidad debe estar entre 1 y 10.\")\n",
    "else:\n",
    "    distancia = 1\n",
    "\n",
    "# Punto 3: Usar un ciclo while para mostrar el avance del caracol\n",
    "   \n",
    "while distancia < 50:\n",
    "    print(\"_\" * distancia + \"🐌\")\n",
    "    distancia += velocidad"
   ]
  },
  {
   "cell_type": "code",
   "execution_count": null,
   "id": "b3533b82",
   "metadata": {},
   "outputs": [],
   "source": []
  }
 ],
 "metadata": {
  "kernelspec": {
   "display_name": "Python 3 (ipykernel)",
   "language": "python",
   "name": "python3"
  },
  "language_info": {
   "codemirror_mode": {
    "name": "ipython",
    "version": 3
   },
   "file_extension": ".py",
   "mimetype": "text/x-python",
   "name": "python",
   "nbconvert_exporter": "python",
   "pygments_lexer": "ipython3",
   "version": "3.9.13"
  }
 },
 "nbformat": 4,
 "nbformat_minor": 5
}
