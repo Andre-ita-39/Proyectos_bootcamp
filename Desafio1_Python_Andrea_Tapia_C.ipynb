{
 "cells": [
  {
   "cell_type": "markdown",
   "id": "f8549c8a",
   "metadata": {},
   "source": [
    "# Desafío 1 - Conociendo Python\n",
    "\n",
    "## Primer programa - \"Calculando el salario semanal\"![\"Calculando\"](https://significado.com/contenido/imp/mercado-del/Salario-Bruto-Neto-1-309x360.jpg)\n",
    "\n",
    "### *Desarrollo*\n",
    "\n",
    "1. En primer lugar se solicita al usuario el total de ventas realizadas en el mes. Para ello, utilizamos la función \n",
    "incorporada \"input\". Dado que por defecto \"input\" recibe los datos como una cadena de texto (tipo string), \n",
    "utilizamos la función \"float\" para convertir este string en número flotante. El uso de \"float\" es especialmente \n",
    "útil en situaciones donde las ventas pueden incluir centavos.\n",
    "\n",
    "2. A continuación se crea una variable a la que se le da el valor de del salario base mediante el signo de\n",
    "asignación \"=\". En este caso el salario es de $500.\n",
    "\n",
    "3. Después se calcula la comisión como el 10% de las ventas. Para ello se crea una variable llamada \"comisión\"\n",
    "a la cual se le asgina una operación para realizar cálculo solicitado, el cual consiste en multiplicar el valor\n",
    "obtenido de la variable \"ventas\" por 0.10 (10%).\n",
    "\n",
    "4. Ahora se debe calcular el salario total. Para ello creamos la variable \"salario_total\" a la cual se le asignará\n",
    "la operación de suma entre la variable \"salario_base\" y la variable \"comisión\", que nos dará el salario final del\n",
    "trabajador.\n",
    "\n",
    "5. Finalmente se usa la función incorporada \"print\" para mostrar los datos solicitados en pantalla. En este caso, \n",
    "se imprime el valor de la variable correspondiente al salario total, precedido por una cadena que explica el \n",
    "significado del valor mostrado. El valor se imprimirá en tipo float, ya que el valor de la variable \"ventas\" se \n",
    "transforma en un float previamente.\n"
   ]
  },
  {
   "cell_type": "code",
   "execution_count": 3,
   "id": "8e309b6c",
   "metadata": {},
   "outputs": [
    {
     "name": "stdout",
     "output_type": "stream",
     "text": [
      "Ingrese el total de ventas realizadas en el mes: 10000\n",
      "El salario total corresponde a: $ 1500.0\n"
     ]
    }
   ],
   "source": [
    "# A continuaación se presenta el código para el programa solicitado\n",
    "\n",
    "\n",
    "ventas = float(input(\"Ingrese el total de ventas realizadas en el mes: \")) \n",
    "\n",
    "salario_base = 500\n",
    "\n",
    "comision = ventas * 0.10\n",
    "\n",
    "salario_total = salario_base + comision\n",
    "\n",
    "print(\"El salario total corresponde a: $\", salario_total)\n"
   ]
  },
  {
   "cell_type": "markdown",
   "id": "fed6db94",
   "metadata": {},
   "source": [
    "## Segundo programa - \"Bienvenido a la frutería virtual\"![\"Fruteria\"](https://www.soyvisual.org/sites/default/files/styles/twitter_card/public/images/sheets/181_tiendas_fruteria.jpg?itok=Z46OPvNf)\n",
    "\n",
    "\n",
    "### *Desarrollo*\n",
    "\n",
    "1. Inicialmente, creamos un diccionario vacío llamado \"catalogo_frutas\", al cual se le asignan dos corchetes vacíos \n",
    "que indican que el diccionario no tiene elementos.\n",
    "\n",
    "2. Agregamos frutas con sus precios al diccionario, para ello usamos la siguiente sintaxis:ponemos el nombre del\n",
    "diccionario y entre [] y comillas (porque estamos ingresando un string) el nombre de la fruta que deseamos\n",
    "agregar, seguido del signo de asiganción \"=\" para poner el precio correspondiente a cada fruta.\n",
    "\n",
    "3. Creamos una variable llamada \"nombre_fruta\" con la función input para poder obtener desde el usuario la fruta\n",
    "que se desea consultar. En este caso sólo usamos input sin ningún tipo de variación ya que deseamos obtener un str.\n",
    "Adicional a ello se agrega el método .lower() para evitar errores si la fruta fuera ingresada con mayúscula.\n",
    "\n",
    "4. A continuación creamos la variable \"precio\" y usamos el método .get() para obtener el precio de la fruta o un \n",
    "mensaje predeterminado si la fruta no está en el catálogo. En este caso usamos la letra \"f\" antes del string \n",
    "para poder interpolar las expresiones dentro de la cadena, como es el caso de la variable \"nombre_fruta\".\n",
    "\n",
    "5. Finalmente imprimimos el resultado de la variable \"precio\" para entregarle al usuario el resultado de su consulta.\n",
    "\n",
    "\n"
   ]
  },
  {
   "cell_type": "code",
   "execution_count": 5,
   "id": "32e0919e",
   "metadata": {},
   "outputs": [
    {
     "name": "stdout",
     "output_type": "stream",
     "text": [
      "Ingrese el nombre de una fruta para verificar su precio: uva\n",
      "Lo siento, no tenemos uva en nuestro catálogo.\n"
     ]
    }
   ],
   "source": [
    "# A continuaación se presenta el código para el programa solicitado\n",
    "\n",
    "catalogo_frutas = {}\n",
    "\n",
    "catalogo_frutas[\"melon\"] = 80\n",
    "catalogo_frutas[\"naranja\"] = 40\n",
    "catalogo_frutas[\"platano\"] = 30\n",
    "catalogo_frutas[\"durazno\"] = 60\n",
    "catalogo_frutas[\"manzana\"] = 45\n",
    "\n",
    "nombre_fruta = input(\"Ingrese el nombre de una fruta para verificar su precio: \").lower()\n",
    "\n",
    "precio = catalogo_frutas.get(nombre_fruta, f\"Lo siento, no tenemos {nombre_fruta} en nuestro catálogo.\")\n",
    "\n",
    "print(precio)\n"
   ]
  },
  {
   "cell_type": "markdown",
   "id": "3586bf1f",
   "metadata": {},
   "source": [
    "## Tercer programa - \"Bienvenido al casino\"![\"Casino\"](https://encrypted-tbn0.gstatic.com/images?q=tbn:ANd9GcQXP3a5taKoLN1BaTmnifzKQy7h4bJPqD_PDQHmpM4DcA&s)\n",
    "\n",
    "### *Desarrollo*\n",
    "\n",
    "1. Importamos la biblioteca random que nos permite generar números aleatorios.\n",
    "\n",
    "2. Creamos una variable llamada \"dado1\" que guardrá el valor del primer dado. Generamos un número aleatorio entre \n",
    "1 y 6 usando el método randint ya que éste genera numeros enteros aleatorios dentro de un rango, ambos inclusive.\n",
    "\n",
    "3. Generamos un número aleatorio entre 1 y 6 para el segundo dado, se realiza la misma operación que para la \n",
    "variable \"dado1\".\n",
    "\n",
    "4. Para calcular la suma de ambos dados creamos una nueva variable (\"suma\") que guardará el resultado de la \n",
    "operación suma de las dos variables anteriores.\n",
    "\n",
    "5. Mostramos los resultados mediante la función print."
   ]
  },
  {
   "cell_type": "code",
   "execution_count": 7,
   "id": "132c3c52",
   "metadata": {},
   "outputs": [
    {
     "name": "stdout",
     "output_type": "stream",
     "text": [
      "Valor del primer dado: 1\n",
      "Valor del segundo dado: 2\n",
      "La suma de ambos dados es: 3\n"
     ]
    }
   ],
   "source": [
    "# A continuaación se presenta el código para el programa solicitado\n",
    "\n",
    "import random\n",
    "\n",
    "dado1 = random.randint(1, 6)\n",
    "\n",
    "dado2 = random.randint(1, 6)\n",
    "\n",
    "suma = dado1 + dado2\n",
    "\n",
    "print(f\"Valor del primer dado: {dado1}\")\n",
    "print(f\"Valor del segundo dado: {dado2}\")\n",
    "print(f\"La suma de ambos dados es: {suma}\")"
   ]
  },
  {
   "cell_type": "markdown",
   "id": "72c34c19",
   "metadata": {},
   "source": [
    "## Cuarto programa - \"Calculadora de chocolate\"![\"Chocolate\"](https://upload.wikimedia.org/wikipedia/commons/thumb/f/fe/Cocoa_Powder_and_Chocolate_on_Marble_Background.jpg/640px-Cocoa_Powder_and_Chocolate_on_Marble_Background.jpg)\n",
    "\n",
    "### *Desarrollo*\n",
    "\n",
    "1. Creamos una variable \"limite_calorias\" asignando la funcion input para solicitar al usuario su límite diario \n",
    "de calorías. Como el valor a ingresar debe ser numérico, debemos transformar la salida de input a integer.\n",
    "\n",
    "2. A continuación se crea una segunda variable \"calorias_chocolate\" que guardará la información solicitada \n",
    "al usuario sobre la cantidad de calorías por porción de chocolate. Se realiza de la misma forma que la variable\n",
    "anterior, ya que solicitamos un valor entero se debe transformar el string a integer.\n",
    "\n",
    "3. La tercera variable se llama \"cantidad_maxima\" y la utilizaremos para calcular la cantidad máxima de porciones \n",
    "de chocolate que se puede consumir sin exceder el límite. Esto se realiza mediante la operación de division\n",
    "entera (//), ya que necesitamos obtener un valor entero de las porciones que se pueden consumir, no sirve en este\n",
    "caso obtener decimales. Para ello dividimos los datos guardados de las variables \"limite_calorias\" y \n",
    "\"calorias_chocolate\".\n",
    "\n",
    "4. Para mostrar el resultado al usuario usamos la función print con \"f\" para poder integrar la cadena con los valores obtenidos de las variables.\n"
   ]
  },
  {
   "cell_type": "code",
   "execution_count": 9,
   "id": "8659d0d5",
   "metadata": {},
   "outputs": [
    {
     "name": "stdout",
     "output_type": "stream",
     "text": [
      "Ingrese su límite diario de calorías: 1000\n",
      "Ingrese las calorías que tiene una porción de chocolate: 100\n",
      "Puedes comer hasta 10 porciones de chocolate sin exceder tu límite diario\n"
     ]
    }
   ],
   "source": [
    "# A continuaación se presenta el código para el programa solicitado\n",
    "\n",
    "\n",
    "limite_calorias = int(input(\"Ingrese su límite diario de calorías: \"))\n",
    "\n",
    "calorias_chocolate = int(input(\"Ingrese las calorías que tiene una porción de chocolate: \"))\n",
    "\n",
    "cantidad_maxima = limite_calorias // calorias_chocolate\n",
    "\n",
    "\n",
    "print(f\"Puedes comer hasta {cantidad_maxima} porciones de chocolate sin exceder tu límite diario\")"
   ]
  },
  {
   "cell_type": "code",
   "execution_count": null,
   "id": "47fcfd37",
   "metadata": {},
   "outputs": [],
   "source": []
  }
 ],
 "metadata": {
  "kernelspec": {
   "display_name": "Python 3 (ipykernel)",
   "language": "python",
   "name": "python3"
  },
  "language_info": {
   "codemirror_mode": {
    "name": "ipython",
    "version": 3
   },
   "file_extension": ".py",
   "mimetype": "text/x-python",
   "name": "python",
   "nbconvert_exporter": "python",
   "pygments_lexer": "ipython3",
   "version": "3.9.13"
  }
 },
 "nbformat": 4,
 "nbformat_minor": 5
}
